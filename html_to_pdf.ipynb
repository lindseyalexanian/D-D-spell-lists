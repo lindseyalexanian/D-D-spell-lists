{
 "cells": [
  {
   "cell_type": "code",
   "execution_count": 4,
   "id": "552482d1-722e-49a6-90ec-d93597529d35",
   "metadata": {},
   "outputs": [
    {
     "name": "stdout",
     "output_type": "stream",
     "text": [
      "CPU times: total: 78.1 ms\n",
      "Wall time: 963 ms\n"
     ]
    }
   ],
   "source": [
    "%%time \n",
    "\n",
    "import pdfkit\n",
    "from jinja2 import Environment, FileSystemLoader\n",
    "import os\n",
    "from bs4 import BeautifulSoup\n",
    "import requests as req"
   ]
  },
  {
   "cell_type": "code",
   "execution_count": 32,
   "id": "44c5923b-d9e2-4b0e-86b9-583d63e1ad8b",
   "metadata": {},
   "outputs": [
    {
     "name": "stdout",
     "output_type": "stream",
     "text": [
      "------------------ HTML String ------------------\n",
      "done\n",
      "\n",
      "------------ Converting HTML to PDF -------------\n"
     ]
    },
    {
     "data": {
      "text/plain": [
       "True"
      ]
     },
     "execution_count": 32,
     "metadata": {},
     "output_type": "execute_result"
    }
   ],
   "source": [
    "env = Environment(loader=FileSystemLoader('.'))\n",
    "template = env.get_template(\"piper_spells.html\")\n",
    "\n",
    "\n",
    "\n",
    "html_string = template.render()\n",
    "\n",
    "print('------------------ HTML String ------------------')\n",
    "#print(html_string)\n",
    "print(\"done\")\n",
    "\n",
    "path_wkhtmltopdf = r'C:\\Program Files\\wkhtmltopdf\\bin\\wkhtmltopdf.exe'\n",
    "config = pdfkit.configuration(wkhtmltopdf=path_wkhtmltopdf)\n",
    "\n",
    "options = {\n",
    "    'page-height': '45in',\n",
    "    'page-width': '17in',\n",
    "    'margin-top': '0.75in',\n",
    "    'margin-right': '0.75in',\n",
    "    'margin-bottom': '0.75in',\n",
    "    'margin-left': '0.75in',\n",
    "    'encoding': \"UTF-8\",\n",
    "    'enable-local-file-access': None,\n",
    "    'no-outline': None\n",
    "}\n",
    "\n",
    "print('\\n------------ Converting HTML to PDF -------------')\n",
    "pdfkit.from_string(html_string\n",
    "                   , 'piper_spells.pdf'\n",
    "                   , configuration = config\n",
    "                   , options = options)"
   ]
  }
 ],
 "metadata": {
  "kernelspec": {
   "display_name": "Python 3 (ipykernel)",
   "language": "python",
   "name": "python3"
  },
  "language_info": {
   "codemirror_mode": {
    "name": "ipython",
    "version": 3
   },
   "file_extension": ".py",
   "mimetype": "text/x-python",
   "name": "python",
   "nbconvert_exporter": "python",
   "pygments_lexer": "ipython3",
   "version": "3.9.13"
  }
 },
 "nbformat": 4,
 "nbformat_minor": 5
}
